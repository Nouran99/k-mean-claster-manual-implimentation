{
  "nbformat": 4,
  "nbformat_minor": 0,
  "metadata": {
    "colab": {
      "provenance": []
    },
    "kernelspec": {
      "name": "python3",
      "display_name": "Python 3"
    },
    "language_info": {
      "name": "python"
    }
  },
  "cells": [
    {
      "cell_type": "code",
      "execution_count": 100,
      "metadata": {
        "id": "AGemp1BhWQbg"
      },
      "outputs": [],
      "source": [
        "import random\n",
        "import numpy as np\n",
        "import pandas as pd\n",
        "import seaborn as sns\n",
        "import matplotlib.pyplot as plt"
      ]
    },
    {
      "cell_type": "code",
      "source": [
        "k=5"
      ],
      "metadata": {
        "id": "Je2XktkgAFbV"
      },
      "execution_count": 101,
      "outputs": []
    },
    {
      "cell_type": "code",
      "source": [
        "def random_generator (n,min,max):\n",
        "  lista =[]\n",
        "  for i in range (0,n):\n",
        "    lista.append([random.randrange(min,max),random.randrange(min,max)])\n",
        "  return lista\n"
      ],
      "metadata": {
        "id": "SD8kflLGXX8-"
      },
      "execution_count": 102,
      "outputs": []
    },
    {
      "cell_type": "code",
      "source": [
        "my_list = np.array(random_generator(20,100,200))"
      ],
      "metadata": {
        "id": "hhIQlVCAZNQa"
      },
      "execution_count": 103,
      "outputs": []
    },
    {
      "cell_type": "code",
      "source": [
        "def distortion_fun (center,points):\n",
        "  d= np.zeros(len(points))\n",
        "  for i in range(0,len(points)):\n",
        "    d[i] = np.linalg.norm (center -points[i])\n",
        "  sum_d= d.sum()\n",
        "  return sum_d"
      ],
      "metadata": {
        "id": "qG6p-8FsePwQ"
      },
      "execution_count": 104,
      "outputs": []
    },
    {
      "cell_type": "code",
      "source": [
        "def k_mean (k,data):\n",
        "  n=2\n",
        "  muc= random_generator(k,100,200) # centroides\n",
        "  dist_function = [100000,10000]\n",
        "  c = np.zeros(len(data)) # assigned centers\n",
        "  while dist_function[n-2]-dist_function[n-1] > 0.001 :\n",
        "    points = []\n",
        "    for m in range(k):\n",
        "      points.append([])\n",
        "    dest= np.zeros([len(data),k])\n",
        "\n",
        "# assign data to clasters\n",
        "    for i in range (0,len(data)):\n",
        "      for m in range (0,k) :\n",
        "        dest[i][m] = np.linalg.norm(muc[m] - data[i])\n",
        "      index = np.argmin(dest[i])\n",
        "      points[index].append(data[i])\n",
        "      c[i] = index\n",
        "      #print (points)\n",
        "\n",
        "# calculate new centroides\n",
        "    for m in range (0,k):\n",
        "      muc[m] =np.mean (points[m], axis = 0)\n",
        "      dist_function.append( distortion_fun (np.array(muc[m]),points))\n",
        "    n+=1\n",
        "  return muc , c ,points,dist_function[n]\n",
        "        "
      ],
      "metadata": {
        "id": "GvZqnh92ZZEa"
      },
      "execution_count": 105,
      "outputs": []
    },
    {
      "cell_type": "code",
      "source": [
        "def k_mean_repeted (k ,my_list):\n",
        "  mui =[]\n",
        "  ci =[]\n",
        "  pointsi=[]\n",
        "  dist_fun =[]\n",
        "  for i in range (10) :\n",
        "    try:\n",
        "      mu , c , points, dist_function= k_mean (k ,my_list)\n",
        "      mui.append(mu)\n",
        "      ci.append(c)\n",
        "      pointsi.append(points)\n",
        "      dist_fun.append(dist_function)\n",
        "    except:\n",
        "      pass\n",
        "  choosen =np.argmin(dist_fun)\n",
        "  return mui[choosen],ci[choosen],pointsi[choosen],dist_fun[choosen]"
      ],
      "metadata": {
        "id": "PwgEe6Q_pN-J"
      },
      "execution_count": 106,
      "outputs": []
    },
    {
      "cell_type": "code",
      "source": [
        "mu ,c , points, dist_fun =k_mean_repeted (k ,my_list)"
      ],
      "metadata": {
        "id": "uM_70DyAWu-M"
      },
      "execution_count": 107,
      "outputs": []
    },
    {
      "cell_type": "code",
      "source": [
        "def my_plotter (k , mu , points):\n",
        "  for m in range (k) :\n",
        "    x =[]\n",
        "    y =[]\n",
        "    for i in range(len(points[m])):\n",
        "      x.append(points[m][i][0])\n",
        "      y.append(points[m][i][1])\n",
        "      plt.scatter(x,y)"
      ],
      "metadata": {
        "id": "I6CMqdLFqaQt"
      },
      "execution_count": 108,
      "outputs": []
    },
    {
      "cell_type": "code",
      "source": [
        "my_plotter (k , mu , points)"
      ],
      "metadata": {
        "id": "V4hqG83Cqa1Z",
        "colab": {
          "base_uri": "https://localhost:8080/",
          "height": 265
        },
        "outputId": "e79b8266-392c-4db1-804c-0566d940bec6"
      },
      "execution_count": 109,
      "outputs": [
        {
          "output_type": "display_data",
          "data": {
            "text/plain": [
              "<Figure size 432x288 with 1 Axes>"
            ],
            "image/png": "[encoded data removed]"
          },
          "metadata": {
            "needs_background": "light"
          }
        }
      ]
    },
    {
      "cell_type": "code",
      "source": [],
      "metadata": {
        "id": "iQw0dpzl_8tg"
      },
      "execution_count": null,
      "outputs": []
    }
  ]
}